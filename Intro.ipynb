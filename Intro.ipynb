{
 "cells": [
  {
   "cell_type": "code",
   "execution_count": null,
   "id": "30cfd301",
   "metadata": {},
   "outputs": [
    {
     "ename": "ModuleNotFoundError",
     "evalue": "No module named 'pandas'",
     "output_type": "error",
     "traceback": [
      "\u001b[1;31m---------------------------------------------------------------------------\u001b[0m",
      "\u001b[1;31mModuleNotFoundError\u001b[0m                       Traceback (most recent call last)",
      "Cell \u001b[1;32mIn[8], line 1\u001b[0m\n\u001b[1;32m----> 1\u001b[0m \u001b[38;5;28;01mimport\u001b[39;00m \u001b[38;5;21;01mpandas\u001b[39;00m \u001b[38;5;28;01mas\u001b[39;00m \u001b[38;5;21;01mpd\u001b[39;00m\n\u001b[0;32m      2\u001b[0m \u001b[38;5;28;01mimport\u001b[39;00m \u001b[38;5;21;01mnumpy\u001b[39;00m \u001b[38;5;28;01mas\u001b[39;00m \u001b[38;5;21;01mnp\u001b[39;00m\n\u001b[0;32m      3\u001b[0m \u001b[38;5;28;01mfrom\u001b[39;00m \u001b[38;5;21;01msklearn\u001b[39;00m\u001b[38;5;21;01m.\u001b[39;00m\u001b[38;5;21;01mensemble\u001b[39;00m \u001b[38;5;28;01mimport\u001b[39;00m RandomForestRegressor\n",
      "\u001b[1;31mModuleNotFoundError\u001b[0m: No module named 'pandas'"
     ]
    }
   ],
   "source": [
    "import pandas as pd\n",
    "import numpy as np\n",
    "from sklearn.ensemble import RandomForestRegressor\n",
    "import matplotlib.pyplot as plt\n",
    "import os\n",
    "\n",
    "# Folder path for data\n",
    "data_folder = r\"D:\\Downloads\\Final Project\\datasets\"\n",
    "dataset_files = [\"534541.csv\", \"534546.csv\", \"549305.csv\"]\n",
    "summary = []\n",
    "\n",
    "# Loop through each dataset file\n",
    "for file_name in dataset_files:\n",
    "# Load dataset\n",
    "data_path = os.path.join(data_folder, file_name)\n",
    "data = pd.read_csv(data_path)\n",
    "\n",
    "# Features and target\n",
    "X = data.iloc[:, 2:] # Features: all columns from the third onward\n",
    "y = data.iloc[:, 1] # Target: second column\n",
    "\n",
    "# Split data\n",
    "X_train, y_train = X[:-48], y[:-48]\n",
    "X_val, y_val = X[-48:-12], y[-48:-12]\n",
    "X_test, y_test = X[-12:], y[-12:]\n",
    "\n",
    "# Train model\n",
    "model = RandomForestRegressor(n_estimators=100, random_state=42)\n",
    "model.fit(X_train, y_train)\n",
    "\n",
    "# Validate and test model\n",
    "y_val_pred = model.predict(X_val)\n",
    "val_accuracy = 100 * (1 - np.abs((y_val - y_val_pred) / y_val)).mean()\n",
    "print(f\"Validation Accuracy for {file_name}: {val_accuracy:.2f}%\")\n",
    "\n",
    "y_test_pred = model.predict(X_test)\n",
    "test_accuracy = 100 * (1 - np.abs((y_test - y_test_pred) / y_test)).mean()\n",
    "print(f\"Test Accuracy for {file_name}: {test_accuracy:.2f}%\")\n",
    "\n",
    "# Store results\n",
    "summary.append({'Dataset': file_name, 'Validation Accuracy': val_accuracy, 'Test Accuracy': test_accuracy})\n",
    "\n",
    "# Plot results\n",
    "plt.figure(figsize=(8, 4))\n",
    "plt.plot(data.iloc[-12:, 0], y_test, label='Actual', color='green')\n",
    "plt.plot(data.iloc[-12:, 0], y_test_pred, label='Predicted', color='red')\n",
    "plt.xlabel('Time')\n",
    "plt.ylabel('Value')\n",
    "plt.legend()\n",
    "plt.title(f\"Actual vs Predicted - {file_name}\")\n",
    "plt.show()\n",
    "\n",
    "# Summary DataFrame\n",
    "summary_df = pd.DataFrame(summary)\n",
    "print(summary_df)"
   ]
  }
 ],
 "metadata": {
  "kernelspec": {
   "display_name": "Python 3",
   "language": "python",
   "name": "python3"
  },
  "language_info": {
   "codemirror_mode": {
    "name": "ipython",
    "version": 3
   },
   "file_extension": ".py",
   "mimetype": "text/x-python",
   "name": "python",
   "nbconvert_exporter": "python",
   "pygments_lexer": "ipython3",
   "version": "3.12.7"
  }
 },
 "nbformat": 4,
 "nbformat_minor": 5
}
